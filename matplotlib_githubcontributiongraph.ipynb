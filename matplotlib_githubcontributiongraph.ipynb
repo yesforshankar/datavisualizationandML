{
  "nbformat": 4,
  "nbformat_minor": 0,
  "metadata": {
    "colab": {
      "name": "matplotlib-githubcontributiongraph.ipynb",
      "provenance": [],
      "collapsed_sections": [],
      "authorship_tag": "ABX9TyM4rIQSBHpLr7tUd9h2fmYf",
      "include_colab_link": true
    },
    "kernelspec": {
      "name": "python3",
      "display_name": "Python 3"
    }
  },
  "cells": [
    {
      "cell_type": "markdown",
      "metadata": {
        "id": "view-in-github",
        "colab_type": "text"
      },
      "source": [
        "<a href=\"https://colab.research.google.com/github/yesforshankar/datavisualizationandML/blob/master/matplotlib_githubcontributiongraph.ipynb\" target=\"_parent\"><img src=\"https://colab.research.google.com/assets/colab-badge.svg\" alt=\"Open In Colab\"/></a>"
      ]
    },
    {
      "cell_type": "code",
      "metadata": {
        "id": "HxFlGgPE5OLy",
        "colab_type": "code",
        "colab": {
          "base_uri": "https://localhost:8080/",
          "height": 378
        },
        "outputId": "608c75a6-1156-4ba9-dbaa-842370f82578"
      },
      "source": [
        "import matplotlib.pyplot as plt\n",
        "fig = plt.figure()\n",
        "ax = fig.add_axes([0,0,1,1])\n",
        "Date = [\"5/16/2020\", \"5/17/2020\", \"5/18/2020\", \"5/19/2020\",\"5/20/2020\",\n",
        "        \"5/21/2020\", \"5/22/2020\", \"5/23/2020\", \"5/24/2020\", \"5/25/2020\", \n",
        "        \"5/26/2020\", \"5/27/2020\", \"5/28/2020\", \"5/29/2020\"]\n",
        "contribution = [28,7,0,2,1,1,0,4,3,2,0,0,1,0]\n",
        "plt.xticks(rotation=75)\n",
        "ax.bar(Date,contribution)\n",
        "plt.show()"
      ],
      "execution_count": 8,
      "outputs": [
        {
          "output_type": "display_data",
          "data": {
            "image/png": "[encoded data removed]",
            "text/plain": [
              "<Figure size 432x288 with 1 Axes>"
            ]
          },
          "metadata": {
            "tags": [],
            "needs_background": "light"
          }
        }
      ]
    }
  ]
}