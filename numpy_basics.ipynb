{
  "nbformat": 4,
  "nbformat_minor": 0,
  "metadata": {
    "colab": {
      "name": "numpy-basics.ipynb",
      "provenance": [],
      "collapsed_sections": [],
      "authorship_tag": "ABX9TyOSjksI9pRbbVLSognkeHIy",
      "include_colab_link": true
    },
    "kernelspec": {
      "name": "python3",
      "display_name": "Python 3"
    }
  },
  "cells": [
    {
      "cell_type": "markdown",
      "metadata": {
        "id": "view-in-github",
        "colab_type": "text"
      },
      "source": [
        "<a href=\"https://colab.research.google.com/github/yesforshankar/datavisualizationandML/blob/master/numpy_basics.ipynb\" target=\"_parent\"><img src=\"https://colab.research.google.com/assets/colab-badge.svg\" alt=\"Open In Colab\"/></a>"
      ]
    },
    {
      "cell_type": "code",
      "metadata": {
        "id": "u1kZBc4afStn",
        "colab_type": "code",
        "colab": {}
      },
      "source": [
        "#Create ordered sequence starting 0 using arange function\n",
        "#creates 1-axis array. Use reshape to create n-d array\n",
        "\n",
        "import numpy as np\n",
        "x=150\n",
        "y=int(x/10)\n",
        "b = np.arange(x).reshape(y,10)\n",
        "b=b+1\n",
        "b\n"
      ],
      "execution_count": 0,
      "outputs": []
    },
    {
      "cell_type": "code",
      "metadata": {
        "id": "V5nMtNQ4v4lx",
        "colab_type": "code",
        "colab": {
          "base_uri": "https://localhost:8080/",
          "height": 35
        },
        "outputId": "8e6c15de-07b8-4687-b72f-1b6287525056"
      },
      "source": [
        "#string array\n",
        "import numpy as np\n",
        "a = np.array(['a','b']).reshape(1,2)\n",
        "a"
      ],
      "execution_count": 68,
      "outputs": [
        {
          "output_type": "execute_result",
          "data": {
            "text/plain": [
              "array([['a', 'b']], dtype='<U1')"
            ]
          },
          "metadata": {
            "tags": []
          },
          "execution_count": 68
        }
      ]
    },
    {
      "cell_type": "code",
      "metadata": {
        "id": "espwABuWwqI4",
        "colab_type": "code",
        "colab": {}
      },
      "source": [
        "#create sequences using python\n",
        "#creates 1-axis array. Use reshape to create n-d array\n",
        "import numpy as np\n",
        "a=np.arange(1, 101, 1).reshape(20, 5)\n",
        "a\n",
        "\n"
      ],
      "execution_count": 0,
      "outputs": []
    },
    {
      "cell_type": "code",
      "metadata": {
        "id": "hRa4WCD51ugB",
        "colab_type": "code",
        "colab": {
          "base_uri": "https://localhost:8080/",
          "height": 35
        },
        "outputId": "9bfceb29-f80a-4559-9643-b48ac5f2e677"
      },
      "source": [
        "#create floating point sequences using python\n",
        "#creates 1-axis array.\n",
        "#Byy default arrays include starting number, excludes ending number\n",
        "import numpy as np\n",
        "a=np.arange(1, 2, 0.1)\n",
        "a"
      ],
      "execution_count": 69,
      "outputs": [
        {
          "output_type": "execute_result",
          "data": {
            "text/plain": [
              "array([1. , 1.1, 1.2, 1.3, 1.4, 1.5, 1.6, 1.7, 1.8, 1.9])"
            ]
          },
          "metadata": {
            "tags": []
          },
          "execution_count": 69
        }
      ]
    },
    {
      "cell_type": "code",
      "metadata": {
        "id": "QbOXmNPp0lm7",
        "colab_type": "code",
        "colab": {
          "base_uri": "https://localhost:8080/",
          "height": 69
        },
        "outputId": "c9023ecc-63d2-49fe-ed8e-e6988ec3ebaa"
      },
      "source": [
        "#print array of all 1s\n",
        "#prints float by default \n",
        "import numpy as np\n",
        "b=np.ones((3,4))\n",
        "b\n"
      ],
      "execution_count": 63,
      "outputs": [
        {
          "output_type": "execute_result",
          "data": {
            "text/plain": [
              "array([[1., 1., 1., 1.],\n",
              "       [1., 1., 1., 1.],\n",
              "       [1., 1., 1., 1.]])"
            ]
          },
          "metadata": {
            "tags": []
          },
          "execution_count": 63
        }
      ]
    },
    {
      "cell_type": "code",
      "metadata": {
        "id": "g-RfbcASz25H",
        "colab_type": "code",
        "colab": {
          "base_uri": "https://localhost:8080/",
          "height": 69
        },
        "outputId": "d21fd2c7-b018-48a9-8d45-058f882e6958"
      },
      "source": [
        "#print array of all 0s\n",
        "#prints float by default. Use dtype to convert into int\n",
        "import numpy as np\n",
        "a= np.zeros((3,4), dtype=\"int16\")\n",
        "a "
      ],
      "execution_count": 64,
      "outputs": [
        {
          "output_type": "execute_result",
          "data": {
            "text/plain": [
              "array([[0, 0, 0, 0],\n",
              "       [0, 0, 0, 0],\n",
              "       [0, 0, 0, 0]], dtype=int16)"
            ]
          },
          "metadata": {
            "tags": []
          },
          "execution_count": 64
        }
      ]
    }
  ]
}